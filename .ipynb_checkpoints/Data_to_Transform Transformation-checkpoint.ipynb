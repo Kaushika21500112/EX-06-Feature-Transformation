{
 "cells": [
  {
   "cell_type": "code",
   "execution_count": 25,
   "id": "df7d46d3",
   "metadata": {},
   "outputs": [],
   "source": [
    "# importing packages\n",
    "import numpy as np\n",
    "import pandas as pd\n",
    "import matplotlib.pyplot as plt\n",
    "import seaborn as sns\n",
    "import statsmodels.api as sm\n",
    "import scipy.stats as stats\n",
    "from sklearn.preprocessing import QuantileTransformer \n",
    "qt=QuantileTransformer(output_distribution='normal')"
   ]
  },
  {
   "cell_type": "code",
   "execution_count": 72,
   "id": "92dfbd96",
   "metadata": {
    "scrolled": true
   },
   "outputs": [
    {
     "data": {
      "text/html": [
       "<div>\n",
       "<style scoped>\n",
       "    .dataframe tbody tr th:only-of-type {\n",
       "        vertical-align: middle;\n",
       "    }\n",
       "\n",
       "    .dataframe tbody tr th {\n",
       "        vertical-align: top;\n",
       "    }\n",
       "\n",
       "    .dataframe thead th {\n",
       "        text-align: right;\n",
       "    }\n",
       "</style>\n",
       "<table border=\"1\" class=\"dataframe\">\n",
       "  <thead>\n",
       "    <tr style=\"text-align: right;\">\n",
       "      <th></th>\n",
       "      <th>Moderate Positive Skew</th>\n",
       "      <th>Highly Positive Skew</th>\n",
       "      <th>Moderate Negative Skew</th>\n",
       "      <th>Highly Negative Skew</th>\n",
       "    </tr>\n",
       "  </thead>\n",
       "  <tbody>\n",
       "    <tr>\n",
       "      <th>0</th>\n",
       "      <td>0.899990</td>\n",
       "      <td>2.895074</td>\n",
       "      <td>11.180748</td>\n",
       "      <td>9.027485</td>\n",
       "    </tr>\n",
       "    <tr>\n",
       "      <th>1</th>\n",
       "      <td>1.113554</td>\n",
       "      <td>2.962385</td>\n",
       "      <td>10.842938</td>\n",
       "      <td>9.009762</td>\n",
       "    </tr>\n",
       "    <tr>\n",
       "      <th>2</th>\n",
       "      <td>1.156830</td>\n",
       "      <td>2.966378</td>\n",
       "      <td>10.817934</td>\n",
       "      <td>9.006134</td>\n",
       "    </tr>\n",
       "    <tr>\n",
       "      <th>3</th>\n",
       "      <td>1.264131</td>\n",
       "      <td>3.000324</td>\n",
       "      <td>10.764570</td>\n",
       "      <td>9.000125</td>\n",
       "    </tr>\n",
       "    <tr>\n",
       "      <th>4</th>\n",
       "      <td>1.323914</td>\n",
       "      <td>3.012109</td>\n",
       "      <td>10.753117</td>\n",
       "      <td>8.981296</td>\n",
       "    </tr>\n",
       "    <tr>\n",
       "      <th>...</th>\n",
       "      <td>...</td>\n",
       "      <td>...</td>\n",
       "      <td>...</td>\n",
       "      <td>...</td>\n",
       "    </tr>\n",
       "    <tr>\n",
       "      <th>9995</th>\n",
       "      <td>14.749050</td>\n",
       "      <td>16.289513</td>\n",
       "      <td>-2.980821</td>\n",
       "      <td>-3.254882</td>\n",
       "    </tr>\n",
       "    <tr>\n",
       "      <th>9996</th>\n",
       "      <td>14.854474</td>\n",
       "      <td>16.396252</td>\n",
       "      <td>-3.147526</td>\n",
       "      <td>-3.772332</td>\n",
       "    </tr>\n",
       "    <tr>\n",
       "      <th>9997</th>\n",
       "      <td>15.262103</td>\n",
       "      <td>17.102991</td>\n",
       "      <td>-3.517256</td>\n",
       "      <td>-4.717950</td>\n",
       "    </tr>\n",
       "    <tr>\n",
       "      <th>9998</th>\n",
       "      <td>15.269983</td>\n",
       "      <td>17.628467</td>\n",
       "      <td>-4.689833</td>\n",
       "      <td>-5.670496</td>\n",
       "    </tr>\n",
       "    <tr>\n",
       "      <th>9999</th>\n",
       "      <td>16.204517</td>\n",
       "      <td>18.052331</td>\n",
       "      <td>-6.335679</td>\n",
       "      <td>-7.036091</td>\n",
       "    </tr>\n",
       "  </tbody>\n",
       "</table>\n",
       "<p>10000 rows × 4 columns</p>\n",
       "</div>"
      ],
      "text/plain": [
       "      Moderate Positive Skew  Highly Positive Skew  Moderate Negative Skew  \\\n",
       "0                   0.899990              2.895074               11.180748   \n",
       "1                   1.113554              2.962385               10.842938   \n",
       "2                   1.156830              2.966378               10.817934   \n",
       "3                   1.264131              3.000324               10.764570   \n",
       "4                   1.323914              3.012109               10.753117   \n",
       "...                      ...                   ...                     ...   \n",
       "9995               14.749050             16.289513               -2.980821   \n",
       "9996               14.854474             16.396252               -3.147526   \n",
       "9997               15.262103             17.102991               -3.517256   \n",
       "9998               15.269983             17.628467               -4.689833   \n",
       "9999               16.204517             18.052331               -6.335679   \n",
       "\n",
       "      Highly Negative Skew  \n",
       "0                 9.027485  \n",
       "1                 9.009762  \n",
       "2                 9.006134  \n",
       "3                 9.000125  \n",
       "4                 8.981296  \n",
       "...                    ...  \n",
       "9995             -3.254882  \n",
       "9996             -3.772332  \n",
       "9997             -4.717950  \n",
       "9998             -5.670496  \n",
       "9999             -7.036091  \n",
       "\n",
       "[10000 rows x 4 columns]"
      ]
     },
     "execution_count": 72,
     "metadata": {},
     "output_type": "execute_result"
    }
   ],
   "source": [
    "df=pd.read_csv(\"Data_to_Transform.csv\")\n",
    "df"
   ]
  },
  {
   "cell_type": "code",
   "execution_count": 27,
   "id": "63c0be3d",
   "metadata": {},
   "outputs": [
    {
     "data": {
      "text/plain": [
       "Moderate Positive Skew    0\n",
       "Highly Positive Skew      0\n",
       "Moderate Negative Skew    0\n",
       "Highly Negative Skew      0\n",
       "dtype: int64"
      ]
     },
     "execution_count": 27,
     "metadata": {},
     "output_type": "execute_result"
    }
   ],
   "source": [
    "#checking and analysing the data\n",
    "df.isnull().sum()"
   ]
  },
  {
   "cell_type": "code",
   "execution_count": 28,
   "id": "c557aa45",
   "metadata": {},
   "outputs": [
    {
     "data": {
      "text/plain": [
       "Moderate Positive Skew    0.656308\n",
       "Highly Positive Skew      1.271249\n",
       "Moderate Negative Skew   -0.690244\n",
       "Highly Negative Skew     -1.201891\n",
       "dtype: float64"
      ]
     },
     "execution_count": 28,
     "metadata": {},
     "output_type": "execute_result"
    }
   ],
   "source": [
    "#checking for skewness of data\n",
    "df.skew()"
   ]
  },
  {
   "cell_type": "code",
   "execution_count": 39,
   "id": "d3ab1b27",
   "metadata": {},
   "outputs": [
    {
     "data": {
      "text/plain": [
       "Moderate Positive Skew    0.656308\n",
       "MPS_log                  -0.392229\n",
       "MPS_rp                    2.029045\n",
       "MPS_sqr                   0.152479\n",
       "MPS_yj                   -0.001168\n",
       "MPS_bc                    0.023089\n",
       "MPS_qt                    0.000895\n",
       "dtype: float64"
      ]
     },
     "execution_count": 39,
     "metadata": {},
     "output_type": "execute_result"
    }
   ],
   "source": [
    "#applying data transformations\n",
    "dfmp=pd.DataFrame()\n",
    "#for Moderate Positive Skew\n",
    "#function transformation\n",
    "dfmp[\"Moderate Positive Skew\"]=df[\"Moderate Positive Skew\"]\n",
    "dfmp[\"MPS_log\"]=np.log(df[\"Moderate Positive Skew\"]) \n",
    "dfmp[\"MPS_rp\"]=np.reciprocal(df[\"Moderate Positive Skew\"])\n",
    "dfmp[\"MPS_sqr\"]=np.sqrt(df[\"Moderate Positive Skew\"])\n",
    "#power transformation\n",
    "dfmp[\"MPS_yj\"], parameters=stats.yeojohnson(df[\"Moderate Positive Skew\"])\n",
    "dfmp[\"MPS_bc\"], parameters=stats.boxcox(df[\"Highly Positive Skew\"]) \n",
    "#quantile transformation\n",
    "dfmp[\"MPS_qt\"]=qt.fit_transform(df[[\"Moderate Positive Skew\"]])\n",
    "dfmp.skew()"
   ]
  },
  {
   "cell_type": "code",
   "execution_count": 40,
   "id": "dd7e53f0",
   "metadata": {},
   "outputs": [
    {
     "data": {
      "text/plain": [
       "Moderate Positive Skew    0.656308\n",
       "MPS_log                  -0.392229\n",
       "MPS_sqr                   0.152479\n",
       "MPS_yj                   -0.001168\n",
       "MPS_bc                    0.023089\n",
       "MPS_qt                    0.000895\n",
       "dtype: float64"
      ]
     },
     "execution_count": 40,
     "metadata": {},
     "output_type": "execute_result"
    }
   ],
   "source": [
    "dfmp.drop('MPS_rp',axis=1,inplace=True)\n",
    "dfmp.skew()"
   ]
  },
  {
   "cell_type": "code",
   "execution_count": 41,
   "id": "bb0de8ac",
   "metadata": {},
   "outputs": [
    {
     "data": {
      "text/html": [
       "<div>\n",
       "<style scoped>\n",
       "    .dataframe tbody tr th:only-of-type {\n",
       "        vertical-align: middle;\n",
       "    }\n",
       "\n",
       "    .dataframe tbody tr th {\n",
       "        vertical-align: top;\n",
       "    }\n",
       "\n",
       "    .dataframe thead th {\n",
       "        text-align: right;\n",
       "    }\n",
       "</style>\n",
       "<table border=\"1\" class=\"dataframe\">\n",
       "  <thead>\n",
       "    <tr style=\"text-align: right;\">\n",
       "      <th></th>\n",
       "      <th>Moderate Positive Skew</th>\n",
       "      <th>MPS_log</th>\n",
       "      <th>MPS_sqr</th>\n",
       "      <th>MPS_yj</th>\n",
       "      <th>MPS_bc</th>\n",
       "      <th>MPS_qt</th>\n",
       "    </tr>\n",
       "  </thead>\n",
       "  <tbody>\n",
       "    <tr>\n",
       "      <th>0</th>\n",
       "      <td>0.899990</td>\n",
       "      <td>-0.105371</td>\n",
       "      <td>0.948678</td>\n",
       "      <td>0.690865</td>\n",
       "      <td>0.812909</td>\n",
       "      <td>-5.199338</td>\n",
       "    </tr>\n",
       "    <tr>\n",
       "      <th>1</th>\n",
       "      <td>1.113554</td>\n",
       "      <td>0.107557</td>\n",
       "      <td>1.055251</td>\n",
       "      <td>0.815560</td>\n",
       "      <td>0.825921</td>\n",
       "      <td>-3.392734</td>\n",
       "    </tr>\n",
       "    <tr>\n",
       "      <th>2</th>\n",
       "      <td>1.156830</td>\n",
       "      <td>0.145684</td>\n",
       "      <td>1.075560</td>\n",
       "      <td>0.839629</td>\n",
       "      <td>0.826679</td>\n",
       "      <td>-3.341853</td>\n",
       "    </tr>\n",
       "    <tr>\n",
       "      <th>3</th>\n",
       "      <td>1.264131</td>\n",
       "      <td>0.234385</td>\n",
       "      <td>1.124336</td>\n",
       "      <td>0.897735</td>\n",
       "      <td>0.833058</td>\n",
       "      <td>-3.243698</td>\n",
       "    </tr>\n",
       "    <tr>\n",
       "      <th>4</th>\n",
       "      <td>1.323914</td>\n",
       "      <td>0.280593</td>\n",
       "      <td>1.150615</td>\n",
       "      <td>0.929191</td>\n",
       "      <td>0.835247</td>\n",
       "      <td>-3.200142</td>\n",
       "    </tr>\n",
       "    <tr>\n",
       "      <th>...</th>\n",
       "      <td>...</td>\n",
       "      <td>...</td>\n",
       "      <td>...</td>\n",
       "      <td>...</td>\n",
       "      <td>...</td>\n",
       "      <td>...</td>\n",
       "    </tr>\n",
       "    <tr>\n",
       "      <th>9995</th>\n",
       "      <td>14.749050</td>\n",
       "      <td>2.691179</td>\n",
       "      <td>3.840449</td>\n",
       "      <td>3.828849</td>\n",
       "      <td>1.457701</td>\n",
       "      <td>3.203464</td>\n",
       "    </tr>\n",
       "    <tr>\n",
       "      <th>9996</th>\n",
       "      <td>14.854474</td>\n",
       "      <td>2.698301</td>\n",
       "      <td>3.854150</td>\n",
       "      <td>3.841318</td>\n",
       "      <td>1.459189</td>\n",
       "      <td>3.225052</td>\n",
       "    </tr>\n",
       "    <tr>\n",
       "      <th>9997</th>\n",
       "      <td>15.262103</td>\n",
       "      <td>2.725373</td>\n",
       "      <td>3.906674</td>\n",
       "      <td>3.888934</td>\n",
       "      <td>1.468681</td>\n",
       "      <td>3.326574</td>\n",
       "    </tr>\n",
       "    <tr>\n",
       "      <th>9998</th>\n",
       "      <td>15.269983</td>\n",
       "      <td>2.725889</td>\n",
       "      <td>3.907683</td>\n",
       "      <td>3.889845</td>\n",
       "      <td>1.475357</td>\n",
       "      <td>3.328914</td>\n",
       "    </tr>\n",
       "    <tr>\n",
       "      <th>9999</th>\n",
       "      <td>16.204517</td>\n",
       "      <td>2.785290</td>\n",
       "      <td>4.025483</td>\n",
       "      <td>3.995584</td>\n",
       "      <td>1.480525</td>\n",
       "      <td>5.199338</td>\n",
       "    </tr>\n",
       "  </tbody>\n",
       "</table>\n",
       "<p>10000 rows × 6 columns</p>\n",
       "</div>"
      ],
      "text/plain": [
       "      Moderate Positive Skew   MPS_log   MPS_sqr    MPS_yj    MPS_bc    MPS_qt\n",
       "0                   0.899990 -0.105371  0.948678  0.690865  0.812909 -5.199338\n",
       "1                   1.113554  0.107557  1.055251  0.815560  0.825921 -3.392734\n",
       "2                   1.156830  0.145684  1.075560  0.839629  0.826679 -3.341853\n",
       "3                   1.264131  0.234385  1.124336  0.897735  0.833058 -3.243698\n",
       "4                   1.323914  0.280593  1.150615  0.929191  0.835247 -3.200142\n",
       "...                      ...       ...       ...       ...       ...       ...\n",
       "9995               14.749050  2.691179  3.840449  3.828849  1.457701  3.203464\n",
       "9996               14.854474  2.698301  3.854150  3.841318  1.459189  3.225052\n",
       "9997               15.262103  2.725373  3.906674  3.888934  1.468681  3.326574\n",
       "9998               15.269983  2.725889  3.907683  3.889845  1.475357  3.328914\n",
       "9999               16.204517  2.785290  4.025483  3.995584  1.480525  5.199338\n",
       "\n",
       "[10000 rows x 6 columns]"
      ]
     },
     "execution_count": 41,
     "metadata": {},
     "output_type": "execute_result"
    }
   ],
   "source": [
    "dfmp"
   ]
  },
  {
   "cell_type": "code",
   "execution_count": 42,
   "id": "d90bebbc",
   "metadata": {},
   "outputs": [
    {
     "data": {
      "text/plain": [
       "Highly Positive Skew    1.271249\n",
       "HPS_log                 0.398780\n",
       "HPS_rp                  0.283884\n",
       "HPS_sqr                 0.800174\n",
       "HPS_yj                  0.031338\n",
       "HPS_bc                  0.023089\n",
       "HPS_qt                 -0.000408\n",
       "dtype: float64"
      ]
     },
     "execution_count": 42,
     "metadata": {},
     "output_type": "execute_result"
    }
   ],
   "source": [
    "#for Highly Positive Skew\n",
    "#function transformation\n",
    "dfhp=pd.DataFrame()\n",
    "dfhp[\"Highly Positive Skew\"]=df[\"Highly Positive Skew\"]\n",
    "dfhp[\"HPS_log\"]=np.log(df[\"Highly Positive Skew\"]) \n",
    "dfhp[\"HPS_rp\"]=np.reciprocal(df[\"Highly Positive Skew\"])\n",
    "dfhp[\"HPS_sqr\"]=np.sqrt(df[\"Highly Positive Skew\"])\n",
    "#power transformation\n",
    "dfhp[\"HPS_yj\"], parameters=stats.yeojohnson(df[\"Highly Positive Skew\"])\n",
    "dfhp[\"HPS_bc\"], parameters=stats.boxcox(df[\"Highly Positive Skew\"]) \n",
    "#quantile transformation\n",
    "dfhp[\"HPS_qt\"]=qt.fit_transform(df[[\"Highly Positive Skew\"]])\n",
    "dfhp.skew()"
   ]
  },
  {
   "cell_type": "code",
   "execution_count": 43,
   "id": "006729b8",
   "metadata": {},
   "outputs": [
    {
     "data": {
      "text/plain": [
       "Highly Positive Skew    1.271249\n",
       "HPS_log                 0.398780\n",
       "HPS_rp                  0.283884\n",
       "HPS_yj                  0.031338\n",
       "HPS_bc                  0.023089\n",
       "HPS_qt                 -0.000408\n",
       "dtype: float64"
      ]
     },
     "execution_count": 43,
     "metadata": {},
     "output_type": "execute_result"
    }
   ],
   "source": [
    "dfhp.drop('HPS_sqr',axis=1,inplace=True)\n",
    "dfhp.skew()"
   ]
  },
  {
   "cell_type": "code",
   "execution_count": 44,
   "id": "b58782ac",
   "metadata": {},
   "outputs": [
    {
     "data": {
      "text/html": [
       "<div>\n",
       "<style scoped>\n",
       "    .dataframe tbody tr th:only-of-type {\n",
       "        vertical-align: middle;\n",
       "    }\n",
       "\n",
       "    .dataframe tbody tr th {\n",
       "        vertical-align: top;\n",
       "    }\n",
       "\n",
       "    .dataframe thead th {\n",
       "        text-align: right;\n",
       "    }\n",
       "</style>\n",
       "<table border=\"1\" class=\"dataframe\">\n",
       "  <thead>\n",
       "    <tr style=\"text-align: right;\">\n",
       "      <th></th>\n",
       "      <th>Highly Positive Skew</th>\n",
       "      <th>HPS_log</th>\n",
       "      <th>HPS_rp</th>\n",
       "      <th>HPS_yj</th>\n",
       "      <th>HPS_bc</th>\n",
       "      <th>HPS_qt</th>\n",
       "    </tr>\n",
       "  </thead>\n",
       "  <tbody>\n",
       "    <tr>\n",
       "      <th>0</th>\n",
       "      <td>2.895074</td>\n",
       "      <td>1.063011</td>\n",
       "      <td>0.345414</td>\n",
       "      <td>0.839656</td>\n",
       "      <td>0.812909</td>\n",
       "      <td>-5.199338</td>\n",
       "    </tr>\n",
       "    <tr>\n",
       "      <th>1</th>\n",
       "      <td>2.962385</td>\n",
       "      <td>1.085995</td>\n",
       "      <td>0.337566</td>\n",
       "      <td>0.845576</td>\n",
       "      <td>0.825921</td>\n",
       "      <td>-3.342974</td>\n",
       "    </tr>\n",
       "    <tr>\n",
       "      <th>2</th>\n",
       "      <td>2.966378</td>\n",
       "      <td>1.087342</td>\n",
       "      <td>0.337112</td>\n",
       "      <td>0.845921</td>\n",
       "      <td>0.826679</td>\n",
       "      <td>-3.326950</td>\n",
       "    </tr>\n",
       "    <tr>\n",
       "      <th>3</th>\n",
       "      <td>3.000324</td>\n",
       "      <td>1.098720</td>\n",
       "      <td>0.333297</td>\n",
       "      <td>0.848834</td>\n",
       "      <td>0.833058</td>\n",
       "      <td>-3.216858</td>\n",
       "    </tr>\n",
       "    <tr>\n",
       "      <th>4</th>\n",
       "      <td>3.012109</td>\n",
       "      <td>1.102640</td>\n",
       "      <td>0.331993</td>\n",
       "      <td>0.849835</td>\n",
       "      <td>0.835247</td>\n",
       "      <td>-3.186281</td>\n",
       "    </tr>\n",
       "    <tr>\n",
       "      <th>...</th>\n",
       "      <td>...</td>\n",
       "      <td>...</td>\n",
       "      <td>...</td>\n",
       "      <td>...</td>\n",
       "      <td>...</td>\n",
       "      <td>...</td>\n",
       "    </tr>\n",
       "    <tr>\n",
       "      <th>9995</th>\n",
       "      <td>16.289513</td>\n",
       "      <td>2.790522</td>\n",
       "      <td>0.061389</td>\n",
       "      <td>1.146703</td>\n",
       "      <td>1.457701</td>\n",
       "      <td>3.198360</td>\n",
       "    </tr>\n",
       "    <tr>\n",
       "      <th>9996</th>\n",
       "      <td>16.396252</td>\n",
       "      <td>2.797053</td>\n",
       "      <td>0.060990</td>\n",
       "      <td>1.147374</td>\n",
       "      <td>1.459189</td>\n",
       "      <td>3.216327</td>\n",
       "    </tr>\n",
       "    <tr>\n",
       "      <th>9997</th>\n",
       "      <td>17.102991</td>\n",
       "      <td>2.839253</td>\n",
       "      <td>0.058469</td>\n",
       "      <td>1.151638</td>\n",
       "      <td>1.468681</td>\n",
       "      <td>3.372712</td>\n",
       "    </tr>\n",
       "    <tr>\n",
       "      <th>9998</th>\n",
       "      <td>17.628467</td>\n",
       "      <td>2.869515</td>\n",
       "      <td>0.056726</td>\n",
       "      <td>1.154622</td>\n",
       "      <td>1.475357</td>\n",
       "      <td>3.588705</td>\n",
       "    </tr>\n",
       "    <tr>\n",
       "      <th>9999</th>\n",
       "      <td>18.052331</td>\n",
       "      <td>2.893275</td>\n",
       "      <td>0.055395</td>\n",
       "      <td>1.156922</td>\n",
       "      <td>1.480525</td>\n",
       "      <td>5.199338</td>\n",
       "    </tr>\n",
       "  </tbody>\n",
       "</table>\n",
       "<p>10000 rows × 6 columns</p>\n",
       "</div>"
      ],
      "text/plain": [
       "      Highly Positive Skew   HPS_log    HPS_rp    HPS_yj    HPS_bc    HPS_qt\n",
       "0                 2.895074  1.063011  0.345414  0.839656  0.812909 -5.199338\n",
       "1                 2.962385  1.085995  0.337566  0.845576  0.825921 -3.342974\n",
       "2                 2.966378  1.087342  0.337112  0.845921  0.826679 -3.326950\n",
       "3                 3.000324  1.098720  0.333297  0.848834  0.833058 -3.216858\n",
       "4                 3.012109  1.102640  0.331993  0.849835  0.835247 -3.186281\n",
       "...                    ...       ...       ...       ...       ...       ...\n",
       "9995             16.289513  2.790522  0.061389  1.146703  1.457701  3.198360\n",
       "9996             16.396252  2.797053  0.060990  1.147374  1.459189  3.216327\n",
       "9997             17.102991  2.839253  0.058469  1.151638  1.468681  3.372712\n",
       "9998             17.628467  2.869515  0.056726  1.154622  1.475357  3.588705\n",
       "9999             18.052331  2.893275  0.055395  1.156922  1.480525  5.199338\n",
       "\n",
       "[10000 rows x 6 columns]"
      ]
     },
     "execution_count": 44,
     "metadata": {},
     "output_type": "execute_result"
    }
   ],
   "source": [
    "dfhp"
   ]
  },
  {
   "cell_type": "code",
   "execution_count": 45,
   "id": "507e414d",
   "metadata": {},
   "outputs": [
    {
     "data": {
      "text/plain": [
       "Moderate Negative Skew    -0.690244\n",
       "MNS_rp                   -16.162250\n",
       "MNS_sq                     0.347926\n",
       "MNS_yj                    -0.119651\n",
       "MNS_qt                    -0.001436\n",
       "dtype: float64"
      ]
     },
     "execution_count": 45,
     "metadata": {},
     "output_type": "execute_result"
    }
   ],
   "source": [
    "#for Moderate Negative Skew\n",
    "dfmn=pd.DataFrame()\n",
    "#function transformation\n",
    "dfmn[\"Moderate Negative Skew\"]=df[\"Moderate Negative Skew\"]\n",
    "dfmn[\"MNS_rp\"]=np.reciprocal(df[\"Moderate Negative Skew\"])\n",
    "dfmn[\"MNS_sq\"]=np.square(df[\"Moderate Negative Skew\"])\n",
    "#power transformation\n",
    "dfmn[\"MNS_yj\"], parameters=stats.yeojohnson(df[\"Moderate Negative Skew\"]) \n",
    "#quantile transformation\n",
    "dfmn[\"MNS_qt\"]=qt.fit_transform(df[[\"Moderate Negative Skew\"]])\n",
    "dfmn.skew()"
   ]
  },
  {
   "cell_type": "code",
   "execution_count": 46,
   "id": "3d5d6c79",
   "metadata": {},
   "outputs": [
    {
     "data": {
      "text/plain": [
       "Moderate Negative Skew   -0.690244\n",
       "MNS_sq                    0.347926\n",
       "MNS_yj                   -0.119651\n",
       "MNS_qt                   -0.001436\n",
       "dtype: float64"
      ]
     },
     "execution_count": 46,
     "metadata": {},
     "output_type": "execute_result"
    }
   ],
   "source": [
    "dfmn.drop('MNS_rp',axis=1,inplace=True)\n",
    "dfmn.skew()"
   ]
  },
  {
   "cell_type": "code",
   "execution_count": 47,
   "id": "8e735c3b",
   "metadata": {},
   "outputs": [
    {
     "data": {
      "text/html": [
       "<div>\n",
       "<style scoped>\n",
       "    .dataframe tbody tr th:only-of-type {\n",
       "        vertical-align: middle;\n",
       "    }\n",
       "\n",
       "    .dataframe tbody tr th {\n",
       "        vertical-align: top;\n",
       "    }\n",
       "\n",
       "    .dataframe thead th {\n",
       "        text-align: right;\n",
       "    }\n",
       "</style>\n",
       "<table border=\"1\" class=\"dataframe\">\n",
       "  <thead>\n",
       "    <tr style=\"text-align: right;\">\n",
       "      <th></th>\n",
       "      <th>Moderate Negative Skew</th>\n",
       "      <th>MNS_sq</th>\n",
       "      <th>MNS_yj</th>\n",
       "      <th>MNS_qt</th>\n",
       "    </tr>\n",
       "  </thead>\n",
       "  <tbody>\n",
       "    <tr>\n",
       "      <th>0</th>\n",
       "      <td>11.180748</td>\n",
       "      <td>125.009116</td>\n",
       "      <td>29.137805</td>\n",
       "      <td>5.199338</td>\n",
       "    </tr>\n",
       "    <tr>\n",
       "      <th>1</th>\n",
       "      <td>10.842938</td>\n",
       "      <td>117.569305</td>\n",
       "      <td>27.885272</td>\n",
       "      <td>3.227288</td>\n",
       "    </tr>\n",
       "    <tr>\n",
       "      <th>2</th>\n",
       "      <td>10.817934</td>\n",
       "      <td>117.027691</td>\n",
       "      <td>27.793301</td>\n",
       "      <td>3.206801</td>\n",
       "    </tr>\n",
       "    <tr>\n",
       "      <th>3</th>\n",
       "      <td>10.764570</td>\n",
       "      <td>115.875961</td>\n",
       "      <td>27.597360</td>\n",
       "      <td>3.167111</td>\n",
       "    </tr>\n",
       "    <tr>\n",
       "      <th>4</th>\n",
       "      <td>10.753117</td>\n",
       "      <td>115.629522</td>\n",
       "      <td>27.555368</td>\n",
       "      <td>3.159208</td>\n",
       "    </tr>\n",
       "    <tr>\n",
       "      <th>...</th>\n",
       "      <td>...</td>\n",
       "      <td>...</td>\n",
       "      <td>...</td>\n",
       "      <td>...</td>\n",
       "    </tr>\n",
       "    <tr>\n",
       "      <th>9995</th>\n",
       "      <td>-2.980821</td>\n",
       "      <td>8.885297</td>\n",
       "      <td>-1.949345</td>\n",
       "      <td>-3.147619</td>\n",
       "    </tr>\n",
       "    <tr>\n",
       "      <th>9996</th>\n",
       "      <td>-3.147526</td>\n",
       "      <td>9.906918</td>\n",
       "      <td>-2.028952</td>\n",
       "      <td>-3.162489</td>\n",
       "    </tr>\n",
       "    <tr>\n",
       "      <th>9997</th>\n",
       "      <td>-3.517256</td>\n",
       "      <td>12.371089</td>\n",
       "      <td>-2.199693</td>\n",
       "      <td>-3.198205</td>\n",
       "    </tr>\n",
       "    <tr>\n",
       "      <th>9998</th>\n",
       "      <td>-4.689833</td>\n",
       "      <td>21.994536</td>\n",
       "      <td>-2.697151</td>\n",
       "      <td>-3.350199</td>\n",
       "    </tr>\n",
       "    <tr>\n",
       "      <th>9999</th>\n",
       "      <td>-6.335679</td>\n",
       "      <td>40.140828</td>\n",
       "      <td>-3.311402</td>\n",
       "      <td>-5.199338</td>\n",
       "    </tr>\n",
       "  </tbody>\n",
       "</table>\n",
       "<p>10000 rows × 4 columns</p>\n",
       "</div>"
      ],
      "text/plain": [
       "      Moderate Negative Skew      MNS_sq     MNS_yj    MNS_qt\n",
       "0                  11.180748  125.009116  29.137805  5.199338\n",
       "1                  10.842938  117.569305  27.885272  3.227288\n",
       "2                  10.817934  117.027691  27.793301  3.206801\n",
       "3                  10.764570  115.875961  27.597360  3.167111\n",
       "4                  10.753117  115.629522  27.555368  3.159208\n",
       "...                      ...         ...        ...       ...\n",
       "9995               -2.980821    8.885297  -1.949345 -3.147619\n",
       "9996               -3.147526    9.906918  -2.028952 -3.162489\n",
       "9997               -3.517256   12.371089  -2.199693 -3.198205\n",
       "9998               -4.689833   21.994536  -2.697151 -3.350199\n",
       "9999               -6.335679   40.140828  -3.311402 -5.199338\n",
       "\n",
       "[10000 rows x 4 columns]"
      ]
     },
     "execution_count": 47,
     "metadata": {},
     "output_type": "execute_result"
    }
   ],
   "source": [
    "dfmn"
   ]
  },
  {
   "cell_type": "code",
   "execution_count": 48,
   "id": "e4fbe417",
   "metadata": {},
   "outputs": [
    {
     "data": {
      "text/plain": [
       "Highly Negative Skew   -1.201891\n",
       "HNS_rp                 -2.136295\n",
       "HNS_sq                 -0.156984\n",
       "HNS_yj                 -0.274676\n",
       "HNS_qt                  0.003126\n",
       "dtype: float64"
      ]
     },
     "execution_count": 48,
     "metadata": {},
     "output_type": "execute_result"
    }
   ],
   "source": [
    "#for Highly Negative Skew\n",
    "dfhn=pd.DataFrame()\n",
    "#function transformation\n",
    "dfhn[\"Highly Negative Skew\"]=df[\"Highly Negative Skew\"]\n",
    "dfhn[\"HNS_rp\"]=np.reciprocal(df[\"Highly Negative Skew\"])\n",
    "dfhn[\"HNS_sq\"]=np.square(df[\"Highly Negative Skew\"])\n",
    "#phwer transformation\n",
    "dfhn[\"HNS_yj\"], parameters=stats.yeojohnson(df[\"Highly Negative Skew\"]) \n",
    "#quantile transformation\n",
    "dfhn[\"HNS_qt\"]=qt.fit_transform(df[[\"Highly Negative Skew\"]])\n",
    "dfhn.skew()"
   ]
  },
  {
   "cell_type": "code",
   "execution_count": 50,
   "id": "a94d5e8c",
   "metadata": {},
   "outputs": [
    {
     "data": {
      "text/plain": [
       "Highly Negative Skew   -1.201891\n",
       "HNS_sq                 -0.156984\n",
       "HNS_yj                 -0.274676\n",
       "HNS_qt                  0.003126\n",
       "dtype: float64"
      ]
     },
     "execution_count": 50,
     "metadata": {},
     "output_type": "execute_result"
    }
   ],
   "source": [
    "dfhn.drop('HNS_rp',axis=1,inplace=True)\n",
    "dfhn.skew()"
   ]
  },
  {
   "cell_type": "code",
   "execution_count": 52,
   "id": "345caa47",
   "metadata": {},
   "outputs": [
    {
     "data": {
      "text/html": [
       "<div>\n",
       "<style scoped>\n",
       "    .dataframe tbody tr th:only-of-type {\n",
       "        vertical-align: middle;\n",
       "    }\n",
       "\n",
       "    .dataframe tbody tr th {\n",
       "        vertical-align: top;\n",
       "    }\n",
       "\n",
       "    .dataframe thead th {\n",
       "        text-align: right;\n",
       "    }\n",
       "</style>\n",
       "<table border=\"1\" class=\"dataframe\">\n",
       "  <thead>\n",
       "    <tr style=\"text-align: right;\">\n",
       "      <th></th>\n",
       "      <th>Highly Negative Skew</th>\n",
       "      <th>HNS_sq</th>\n",
       "      <th>HNS_yj</th>\n",
       "      <th>HNS_qt</th>\n",
       "    </tr>\n",
       "  </thead>\n",
       "  <tbody>\n",
       "    <tr>\n",
       "      <th>0</th>\n",
       "      <td>9.027485</td>\n",
       "      <td>81.495480</td>\n",
       "      <td>51.081487</td>\n",
       "      <td>5.199338</td>\n",
       "    </tr>\n",
       "    <tr>\n",
       "      <th>1</th>\n",
       "      <td>9.009762</td>\n",
       "      <td>81.175811</td>\n",
       "      <td>50.898041</td>\n",
       "      <td>3.503580</td>\n",
       "    </tr>\n",
       "    <tr>\n",
       "      <th>2</th>\n",
       "      <td>9.006134</td>\n",
       "      <td>81.110452</td>\n",
       "      <td>50.860530</td>\n",
       "      <td>3.453669</td>\n",
       "    </tr>\n",
       "    <tr>\n",
       "      <th>3</th>\n",
       "      <td>9.000125</td>\n",
       "      <td>81.002257</td>\n",
       "      <td>50.798432</td>\n",
       "      <td>3.386210</td>\n",
       "    </tr>\n",
       "    <tr>\n",
       "      <th>4</th>\n",
       "      <td>8.981296</td>\n",
       "      <td>80.663680</td>\n",
       "      <td>50.604084</td>\n",
       "      <td>3.239746</td>\n",
       "    </tr>\n",
       "    <tr>\n",
       "      <th>...</th>\n",
       "      <td>...</td>\n",
       "      <td>...</td>\n",
       "      <td>...</td>\n",
       "      <td>...</td>\n",
       "    </tr>\n",
       "    <tr>\n",
       "      <th>9995</th>\n",
       "      <td>-3.254882</td>\n",
       "      <td>10.594259</td>\n",
       "      <td>-1.433326</td>\n",
       "      <td>-3.131880</td>\n",
       "    </tr>\n",
       "    <tr>\n",
       "      <th>9996</th>\n",
       "      <td>-3.772332</td>\n",
       "      <td>14.230487</td>\n",
       "      <td>-1.545673</td>\n",
       "      <td>-3.174835</td>\n",
       "    </tr>\n",
       "    <tr>\n",
       "      <th>9997</th>\n",
       "      <td>-4.717950</td>\n",
       "      <td>22.259048</td>\n",
       "      <td>-1.722267</td>\n",
       "      <td>-3.272809</td>\n",
       "    </tr>\n",
       "    <tr>\n",
       "      <th>9998</th>\n",
       "      <td>-5.670496</td>\n",
       "      <td>32.154520</td>\n",
       "      <td>-1.872430</td>\n",
       "      <td>-3.419532</td>\n",
       "    </tr>\n",
       "    <tr>\n",
       "      <th>9999</th>\n",
       "      <td>-7.036091</td>\n",
       "      <td>49.506580</td>\n",
       "      <td>-2.053503</td>\n",
       "      <td>-5.199338</td>\n",
       "    </tr>\n",
       "  </tbody>\n",
       "</table>\n",
       "<p>10000 rows × 4 columns</p>\n",
       "</div>"
      ],
      "text/plain": [
       "      Highly Negative Skew     HNS_sq     HNS_yj    HNS_qt\n",
       "0                 9.027485  81.495480  51.081487  5.199338\n",
       "1                 9.009762  81.175811  50.898041  3.503580\n",
       "2                 9.006134  81.110452  50.860530  3.453669\n",
       "3                 9.000125  81.002257  50.798432  3.386210\n",
       "4                 8.981296  80.663680  50.604084  3.239746\n",
       "...                    ...        ...        ...       ...\n",
       "9995             -3.254882  10.594259  -1.433326 -3.131880\n",
       "9996             -3.772332  14.230487  -1.545673 -3.174835\n",
       "9997             -4.717950  22.259048  -1.722267 -3.272809\n",
       "9998             -5.670496  32.154520  -1.872430 -3.419532\n",
       "9999             -7.036091  49.506580  -2.053503 -5.199338\n",
       "\n",
       "[10000 rows x 4 columns]"
      ]
     },
     "execution_count": 52,
     "metadata": {},
     "output_type": "execute_result"
    }
   ],
   "source": [
    "dfhn"
   ]
  },
  {
   "cell_type": "code",
   "execution_count": 54,
   "id": "35acdd50",
   "metadata": {},
   "outputs": [
    {
     "data": {
      "text/plain": [
       "<AxesSubplot:>"
      ]
     },
     "execution_count": 54,
     "metadata": {},
     "output_type": "execute_result"
    },
    {
     "data": {
      "image/png": "[encoded data removed]",
      "text/plain": [
       "<Figure size 432x288 with 1 Axes>"
      ]
     },
     "metadata": {
      "needs_background": "light"
     },
     "output_type": "display_data"
    }
   ],
   "source": [
    "#graphical representation\n",
    "#for Moderate Positive Skew\n",
    "df[\"Moderate Positive Skew\"].hist()"
   ]
  },
  {
   "cell_type": "code",
   "execution_count": 56,
   "id": "7e89dab2",
   "metadata": {},
   "outputs": [
    {
     "data": {
      "text/plain": [
       "<AxesSubplot:>"
      ]
     },
     "execution_count": 56,
     "metadata": {},
     "output_type": "execute_result"
    },
    {
     "data": {
      "image/png": "[encoded data removed]",
      "text/plain": [
       "<Figure size 432x288 with 1 Axes>"
      ]
     },
     "metadata": {
      "needs_background": "light"
     },
     "output_type": "display_data"
    }
   ],
   "source": [
    "dfmp[\"MPS_log\"].hist()"
   ]
  },
  {
   "cell_type": "code",
   "execution_count": 57,
   "id": "8092456b",
   "metadata": {},
   "outputs": [
    {
     "data": {
      "text/plain": [
       "<AxesSubplot:>"
      ]
     },
     "execution_count": 57,
     "metadata": {},
     "output_type": "execute_result"
    },
    {
     "data": {
      "image/png": "[encoded data removed]",
      "text/plain": [
       "<Figure size 432x288 with 1 Axes>"
      ]
     },
     "metadata": {
      "needs_background": "light"
     },
     "output_type": "display_data"
    }
   ],
   "source": [
    "dfmp[\"MPS_sqr\"].hist()"
   ]
  },
  {
   "cell_type": "code",
   "execution_count": 58,
   "id": "31144dca",
   "metadata": {},
   "outputs": [
    {
     "data": {
      "text/plain": [
       "<AxesSubplot:>"
      ]
     },
     "execution_count": 58,
     "metadata": {},
     "output_type": "execute_result"
    },
    {
     "data": {
      "image/png": "[encoded data removed]",
      "text/plain": [
       "<Figure size 432x288 with 1 Axes>"
      ]
     },
     "metadata": {
      "needs_background": "light"
     },
     "output_type": "display_data"
    }
   ],
   "source": [
    "dfmp[\"MPS_bc\"].hist()"
   ]
  },
  {
   "cell_type": "code",
   "execution_count": 59,
   "id": "8be8d552",
   "metadata": {},
   "outputs": [
    {
     "data": {
      "text/plain": [
       "<AxesSubplot:>"
      ]
     },
     "execution_count": 59,
     "metadata": {},
     "output_type": "execute_result"
    },
    {
     "data": {
      "image/png": "[encoded data removed]",
      "text/plain": [
       "<Figure size 432x288 with 1 Axes>"
      ]
     },
     "metadata": {
      "needs_background": "light"
     },
     "output_type": "display_data"
    }
   ],
   "source": [
    "dfmp[\"MPS_yj\"].hist()"
   ]
  },
  {
   "cell_type": "code",
   "execution_count": 62,
   "id": "1b198992",
   "metadata": {},
   "outputs": [
    {
     "data": {
      "image/png": "[encoded data removed]",
      "text/plain": [
       "<Figure size 432x288 with 1 Axes>"
      ]
     },
     "metadata": {
      "needs_background": "light"
     },
     "output_type": "display_data"
    }
   ],
   "source": [
    "sm.qqplot(df['Moderate Positive Skew'],line='45')\n",
    "plt.show()"
   ]
  },
  {
   "cell_type": "code",
   "execution_count": 63,
   "id": "b765e31c",
   "metadata": {},
   "outputs": [
    {
     "data": {
      "image/png": "[encoded data removed]",
      "text/plain": [
       "<Figure size 432x288 with 1 Axes>"
      ]
     },
     "metadata": {
      "needs_background": "light"
     },
     "output_type": "display_data"
    }
   ],
   "source": [
    "sm.qqplot(dfmp['MPS_qt'],line='45')\n",
    "plt.show()"
   ]
  },
  {
   "cell_type": "code",
   "execution_count": 69,
   "id": "886ac114",
   "metadata": {},
   "outputs": [
    {
     "data": {
      "text/plain": [
       "<AxesSubplot:>"
      ]
     },
     "execution_count": 69,
     "metadata": {},
     "output_type": "execute_result"
    },
    {
     "data": {
      "image/png": "[encoded data removed]",
      "text/plain": [
       "<Figure size 432x288 with 1 Axes>"
      ]
     },
     "metadata": {
      "needs_background": "light"
     },
     "output_type": "display_data"
    }
   ],
   "source": [
    "#for Highly Positive Skew\n",
    "df[\"Highly Positive Skew\"].hist()"
   ]
  },
  {
   "cell_type": "code",
   "execution_count": 65,
   "id": "94b51753",
   "metadata": {},
   "outputs": [
    {
     "data": {
      "text/plain": [
       "<AxesSubplot:>"
      ]
     },
     "execution_count": 65,
     "metadata": {},
     "output_type": "execute_result"
    },
    {
     "data": {
      "image/png": "[encoded data removed]",
      "text/plain": [
       "<Figure size 432x288 with 1 Axes>"
      ]
     },
     "metadata": {
      "needs_background": "light"
     },
     "output_type": "display_data"
    }
   ],
   "source": [
    "dfhp[\"HPS_log\"].hist()"
   ]
  },
  {
   "cell_type": "code",
   "execution_count": 66,
   "id": "0025da88",
   "metadata": {},
   "outputs": [
    {
     "data": {
      "text/plain": [
       "<AxesSubplot:>"
      ]
     },
     "execution_count": 66,
     "metadata": {},
     "output_type": "execute_result"
    },
    {
     "data": {
      "image/png": "[encoded data removed]",
      "text/plain": [
       "<Figure size 432x288 with 1 Axes>"
      ]
     },
     "metadata": {
      "needs_background": "light"
     },
     "output_type": "display_data"
    }
   ],
   "source": [
    "dfhp[\"HPS_rp\"].hist()"
   ]
  },
  {
   "cell_type": "code",
   "execution_count": 67,
   "id": "47ec9582",
   "metadata": {},
   "outputs": [
    {
     "data": {
      "text/plain": [
       "<AxesSubplot:>"
      ]
     },
     "execution_count": 67,
     "metadata": {},
     "output_type": "execute_result"
    },
    {
     "data": {
      "image/png": "[encoded data removed]",
      "text/plain": [
       "<Figure size 432x288 with 1 Axes>"
      ]
     },
     "metadata": {
      "needs_background": "light"
     },
     "output_type": "display_data"
    }
   ],
   "source": [
    "dfhp[\"HPS_bc\"].hist()"
   ]
  },
  {
   "cell_type": "code",
   "execution_count": 68,
   "id": "3ed4fc12",
   "metadata": {},
   "outputs": [
    {
     "data": {
      "text/plain": [
       "<AxesSubplot:>"
      ]
     },
     "execution_count": 68,
     "metadata": {},
     "output_type": "execute_result"
    },
    {
     "data": {
      "image/png": "[encoded data removed]",
      "text/plain": [
       "<Figure size 432x288 with 1 Axes>"
      ]
     },
     "metadata": {
      "needs_background": "light"
     },
     "output_type": "display_data"
    }
   ],
   "source": [
    "dfhp[\"HPS_yj\"].hist()"
   ]
  },
  {
   "cell_type": "code",
   "execution_count": 70,
   "id": "65fed435",
   "metadata": {},
   "outputs": [
    {
     "data": {
      "image/png": "[encoded data removed]",
      "text/plain": [
       "<Figure size 432x288 with 1 Axes>"
      ]
     },
     "metadata": {
      "needs_background": "light"
     },
     "output_type": "display_data"
    }
   ],
   "source": [
    "sm.qqplot(df['Highly Positive Skew'],line='45')\n",
    "plt.show()"
   ]
  },
  {
   "cell_type": "code",
   "execution_count": 71,
   "id": "d08c0014",
   "metadata": {},
   "outputs": [
    {
     "data": {
      "image/png": "[encoded data removed]",
      "text/plain": [
       "<Figure size 432x288 with 1 Axes>"
      ]
     },
     "metadata": {
      "needs_background": "light"
     },
     "output_type": "display_data"
    }
   ],
   "source": [
    "sm.qqplot(dfhp['HPS_qt'],line='45')\n",
    "plt.show()"
   ]
  },
  {
   "cell_type": "code",
   "execution_count": null,
   "id": "393445c2",
   "metadata": {},
   "outputs": [],
   "source": []
  }
 ],
 "metadata": {
  "kernelspec": {
   "display_name": "Python 3",
   "language": "python",
   "name": "python3"
  },
  "language_info": {
   "codemirror_mode": {
    "name": "ipython",
    "version": 3
   },
   "file_extension": ".py",
   "mimetype": "text/x-python",
   "name": "python",
   "nbconvert_exporter": "python",
   "pygments_lexer": "ipython3",
   "version": "3.8.8"
  }
 },
 "nbformat": 4,
 "nbformat_minor": 5
}
